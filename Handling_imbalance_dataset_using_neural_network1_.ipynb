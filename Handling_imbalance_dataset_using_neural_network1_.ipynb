{
  "nbformat": 4,
  "nbformat_minor": 0,
  "metadata": {
    "colab": {
      "name": "Handling imbalance dataset using neural network1 .ipynb",
      "provenance": [],
      "collapsed_sections": []
    },
    "kernelspec": {
      "name": "python3",
      "display_name": "Python 3"
    },
    "language_info": {
      "name": "python"
    },
    "accelerator": "GPU"
  },
  "cells": [
    {
      "cell_type": "code",
      "metadata": {
        "id": "lBeUcTIp-4Q_"
      },
      "source": [
        "import pandas as pd\n",
        "import numpy as np"
      ],
      "execution_count": 2,
      "outputs": []
    },
    {
      "cell_type": "code",
      "metadata": {
        "id": "xL3qNvGT-6gi"
      },
      "source": [
        "df  = pd.read_csv('/content/drive/MyDrive/data/creditcard.csv')"
      ],
      "execution_count": 3,
      "outputs": []
    },
    {
      "cell_type": "code",
      "metadata": {
        "colab": {
          "base_uri": "https://localhost:8080/"
        },
        "id": "gY0b73nO-6jH",
        "outputId": "a1edcd5d-5657-4037-bd3d-d15c3eb8c7c3"
      },
      "source": [
        "df['Class'].value_counts().values"
      ],
      "execution_count": 4,
      "outputs": [
        {
          "output_type": "execute_result",
          "data": {
            "text/plain": [
              "array([284315,    492])"
            ]
          },
          "metadata": {
            "tags": []
          },
          "execution_count": 4
        }
      ]
    },
    {
      "cell_type": "code",
      "metadata": {
        "colab": {
          "base_uri": "https://localhost:8080/",
          "height": 282
        },
        "id": "NxfIAktS-6oP",
        "outputId": "a5d4b6d5-b591-4727-ab20-ce7398537fab"
      },
      "source": [
        "import seaborn as sns\n",
        "sns.barplot(x = df['Class'].value_counts().keys(),y = df['Class'].value_counts().values)"
      ],
      "execution_count": 5,
      "outputs": [
        {
          "output_type": "execute_result",
          "data": {
            "text/plain": [
              "<matplotlib.axes._subplots.AxesSubplot at 0x7fba028a3a50>"
            ]
          },
          "metadata": {
            "tags": []
          },
          "execution_count": 5
        },
        {
          "output_type": "display_data",
          "data": {
            "image/png": "[encoded data removed]",
            "text/plain": [
              "<Figure size 432x288 with 1 Axes>"
            ]
          },
          "metadata": {
            "tags": [],
            "needs_background": "light"
          }
        }
      ]
    },
    {
      "cell_type": "code",
      "metadata": {
        "id": "Nc2NwQow-6qb"
      },
      "source": [
        "X = df.iloc[:,1:-1]\n",
        "y = df.iloc[:,-1]"
      ],
      "execution_count": 6,
      "outputs": []
    },
    {
      "cell_type": "code",
      "metadata": {
        "id": "cyzWEePy-6sf"
      },
      "source": [
        "from sklearn.model_selection import train_test_split\n",
        "X_train,X_test,y_train,y_test = train_test_split(X,y,test_size = 0.3,random_state = 42)"
      ],
      "execution_count": 7,
      "outputs": []
    },
    {
      "cell_type": "code",
      "metadata": {
        "colab": {
          "base_uri": "https://localhost:8080/"
        },
        "id": "5e0vwMPJ_nC8",
        "outputId": "29f10ad1-f665-49b1-b6a0-e2d24c7d032e"
      },
      "source": [
        "y_train.value_counts()"
      ],
      "execution_count": 8,
      "outputs": [
        {
          "output_type": "execute_result",
          "data": {
            "text/plain": [
              "0    199008\n",
              "1       356\n",
              "Name: Class, dtype: int64"
            ]
          },
          "metadata": {
            "tags": []
          },
          "execution_count": 8
        }
      ]
    },
    {
      "cell_type": "code",
      "metadata": {
        "colab": {
          "base_uri": "https://localhost:8080/"
        },
        "id": "2PWgcJsj_yPs",
        "outputId": "5a7bb661-1ac3-42e3-feaf-87bf79af24bf"
      },
      "source": [
        "len(X.columns)"
      ],
      "execution_count": 9,
      "outputs": [
        {
          "output_type": "execute_result",
          "data": {
            "text/plain": [
              "29"
            ]
          },
          "metadata": {
            "tags": []
          },
          "execution_count": 9
        }
      ]
    },
    {
      "cell_type": "code",
      "metadata": {
        "id": "fzYa5Sxl_9-m"
      },
      "source": [
        "### creating the simple ANN model and train our model\n",
        "from tensorflow.keras.layers import Dense\n",
        "from tensorflow.keras.models import Sequential"
      ],
      "execution_count": 10,
      "outputs": []
    },
    {
      "cell_type": "code",
      "metadata": {
        "id": "JUHGjBx8ABCU"
      },
      "source": [
        "n_input = len(X.columns)\n",
        "model = Sequential()\n",
        "model.add(Dense(50,input_dim = n_input,activation='relu',kernel_initializer='he_uniform'))\n",
        "model.add(Dense(1,activation='sigmoid'))\n",
        "model.compile(loss= 'binary_crossentropy',optimizer = 'adam')"
      ],
      "execution_count": 11,
      "outputs": []
    },
    {
      "cell_type": "code",
      "metadata": {
        "colab": {
          "base_uri": "https://localhost:8080/"
        },
        "id": "o3mbeVJAAbBv",
        "outputId": "c16ea132-46a1-457c-cc30-c07d671da516"
      },
      "source": [
        "model.summary()"
      ],
      "execution_count": 12,
      "outputs": [
        {
          "output_type": "stream",
          "text": [
            "Model: \"sequential\"\n",
            "_________________________________________________________________\n",
            "Layer (type)                 Output Shape              Param #   \n",
            "=================================================================\n",
            "dense (Dense)                (None, 50)                1500      \n",
            "_________________________________________________________________\n",
            "dense_1 (Dense)              (None, 1)                 51        \n",
            "=================================================================\n",
            "Total params: 1,551\n",
            "Trainable params: 1,551\n",
            "Non-trainable params: 0\n",
            "_________________________________________________________________\n"
          ],
          "name": "stdout"
        }
      ]
    },
    {
      "cell_type": "code",
      "metadata": {
        "colab": {
          "base_uri": "https://localhost:8080/"
        },
        "id": "fxB1JA73AdVW",
        "outputId": "8fbd9d13-67df-44f9-f036-c4f5b33a0a72"
      },
      "source": [
        "model.fit(X_train,y_train,epochs = 10)"
      ],
      "execution_count": 13,
      "outputs": [
        {
          "output_type": "stream",
          "text": [
            "Epoch 1/10\n",
            "6231/6231 [==============================] - 14s 2ms/step - loss: 0.0206\n",
            "Epoch 2/10\n",
            "6231/6231 [==============================] - 11s 2ms/step - loss: 0.0122\n",
            "Epoch 3/10\n",
            "6231/6231 [==============================] - 11s 2ms/step - loss: 0.0125\n",
            "Epoch 4/10\n",
            "6231/6231 [==============================] - 11s 2ms/step - loss: 0.0088\n",
            "Epoch 5/10\n",
            "6231/6231 [==============================] - 11s 2ms/step - loss: 0.0089\n",
            "Epoch 6/10\n",
            "6231/6231 [==============================] - 11s 2ms/step - loss: 0.0088\n",
            "Epoch 7/10\n",
            "6231/6231 [==============================] - 11s 2ms/step - loss: 0.0067\n",
            "Epoch 8/10\n",
            "6231/6231 [==============================] - 11s 2ms/step - loss: 0.0089\n",
            "Epoch 9/10\n",
            "6231/6231 [==============================] - 11s 2ms/step - loss: 0.0084\n",
            "Epoch 10/10\n",
            "6231/6231 [==============================] - 11s 2ms/step - loss: 0.0065\n"
          ],
          "name": "stdout"
        },
        {
          "output_type": "execute_result",
          "data": {
            "text/plain": [
              "<tensorflow.python.keras.callbacks.History at 0x7fb9b007dc50>"
            ]
          },
          "metadata": {
            "tags": []
          },
          "execution_count": 13
        }
      ]
    },
    {
      "cell_type": "code",
      "metadata": {
        "id": "zZB0wOJtA0f8"
      },
      "source": [
        "from sklearn.metrics import roc_auc_score\n",
        "y_pred1 = model.predict(X_test)\n",
        "roc_score = roc_auc_score(y_test,y_pred1)"
      ],
      "execution_count": 14,
      "outputs": []
    },
    {
      "cell_type": "code",
      "metadata": {
        "colab": {
          "base_uri": "https://localhost:8080/"
        },
        "id": "cmL_m7yFBZYE",
        "outputId": "3ecac6ce-30e1-4c36-9c44-82d0b662c0cd"
      },
      "source": [
        "roc_score"
      ],
      "execution_count": 15,
      "outputs": [
        {
          "output_type": "execute_result",
          "data": {
            "text/plain": [
              "0.9701741599027458"
            ]
          },
          "metadata": {
            "tags": []
          },
          "execution_count": 15
        }
      ]
    },
    {
      "cell_type": "markdown",
      "metadata": {
        "id": "HtYz-uYtBmxY"
      },
      "source": [
        "## weighted neural network keras\n",
        "1. define weight\n",
        "2.fit the model with those specific weight"
      ]
    },
    {
      "cell_type": "code",
      "metadata": {
        "id": "dDxFtgPrBby4"
      },
      "source": [
        "weight_assign = {0:1,1:550}\n",
        "n_input = len(X.columns)\n",
        "model = Sequential()\n",
        "model.add(Dense(50,input_dim = n_input,activation='relu',kernel_initializer='HeNormal'))\n",
        "model.add(Dense(1,activation='sigmoid'))\n",
        "model.compile(loss= 'binary_crossentropy',optimizer = 'adam')"
      ],
      "execution_count": 16,
      "outputs": []
    },
    {
      "cell_type": "code",
      "metadata": {
        "colab": {
          "base_uri": "https://localhost:8080/"
        },
        "id": "CFRGf8ALCBXg",
        "outputId": "827d1275-227b-460d-ab6e-5ccfaff9fdfb"
      },
      "source": [
        "model.fit(X_train,y_train,epochs = 10,class_weight=weight_assign)"
      ],
      "execution_count": 17,
      "outputs": [
        {
          "output_type": "stream",
          "text": [
            "WARNING:tensorflow:From /usr/local/lib/python3.7/dist-packages/tensorflow/python/ops/array_ops.py:5049: calling gather (from tensorflow.python.ops.array_ops) with validate_indices is deprecated and will be removed in a future version.\n",
            "Instructions for updating:\n",
            "The `validate_indices` argument has no effect. Indices are always validated on CPU and never validated on GPU.\n",
            "Epoch 1/10\n",
            "6231/6231 [==============================] - 12s 2ms/step - loss: 2.8347\n",
            "Epoch 2/10\n",
            "6231/6231 [==============================] - 12s 2ms/step - loss: 2.0098\n",
            "Epoch 3/10\n",
            "6231/6231 [==============================] - 12s 2ms/step - loss: 2.4713\n",
            "Epoch 4/10\n",
            "6231/6231 [==============================] - 12s 2ms/step - loss: 2.6288\n",
            "Epoch 5/10\n",
            "6231/6231 [==============================] - 12s 2ms/step - loss: 2.6928\n",
            "Epoch 6/10\n",
            "6231/6231 [==============================] - 12s 2ms/step - loss: 1.5660\n",
            "Epoch 7/10\n",
            "6231/6231 [==============================] - 12s 2ms/step - loss: 2.3207\n",
            "Epoch 8/10\n",
            "6231/6231 [==============================] - 12s 2ms/step - loss: 2.0413\n",
            "Epoch 9/10\n",
            "6231/6231 [==============================] - 12s 2ms/step - loss: 1.9620\n",
            "Epoch 10/10\n",
            "6231/6231 [==============================] - 12s 2ms/step - loss: 2.3527\n"
          ],
          "name": "stdout"
        },
        {
          "output_type": "execute_result",
          "data": {
            "text/plain": [
              "<tensorflow.python.keras.callbacks.History at 0x7fb9616daa90>"
            ]
          },
          "metadata": {
            "tags": []
          },
          "execution_count": 17
        }
      ]
    },
    {
      "cell_type": "code",
      "metadata": {
        "colab": {
          "base_uri": "https://localhost:8080/"
        },
        "id": "kt4osErCCJ6-",
        "outputId": "20623642-64f8-4eca-ef1f-de58a303601b"
      },
      "source": [
        "y_pred2 = model.predict(X_test)\n",
        "roc_auc_score(y_test,y_pred2)"
      ],
      "execution_count": 18,
      "outputs": [
        {
          "output_type": "execute_result",
          "data": {
            "text/plain": [
              "0.9781934659523837"
            ]
          },
          "metadata": {
            "tags": []
          },
          "execution_count": 18
        }
      ]
    }
  ]
}